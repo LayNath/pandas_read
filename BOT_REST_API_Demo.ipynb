{
 "cells": [
  {
   "cell_type": "code",
   "execution_count": 31,
   "metadata": {
    "collapsed": true
   },
   "outputs": [],
   "source": [
    "import requests\n",
    "%matplotlib inline"
   ]
  },
  {
   "cell_type": "code",
   "execution_count": 18,
   "metadata": {
    "collapsed": true
   },
   "outputs": [],
   "source": [
    "url = \\\n",
    "    'https://iapi.bot.or.th/Stat/Stat-ReferenceRate/DAILY_REF_RATE_V1/'\n",
    "querystring = {'start_period': '2017-09-01', 'end_period': '2017-09-15'}\n",
    "headers = {'api-key': 'U9G1L457H6DCugT7VmBaEacbHV9RX0PySO05cYaGsm'}\n",
    "response = requests.request('GET', url, headers=headers,\n",
    "                            params=querystring)"
   ]
  },
  {
   "cell_type": "code",
   "execution_count": 19,
   "metadata": {},
   "outputs": [
    {
     "data": {
      "text/plain": [
       "'{\"result\":{\"success\":\"true\",\"api\":\"Daily Weighted-average Interbank Exchange Rate - THB / USD\",\"timestamp\":\"2017-09-24 09:31:15\",\"data\":{\"data_header\":{\"report_name_eng\":\"Rates of Exchange of Commercial Banks in Bangkok Metropolis (2002-present)\",\"report_name_th\":\"อัตราแลกเปลี่ยนเฉลี่ยของธนาคารพาณิชย์ในกรุงเทพมหานคร (2545-ปัจจุบัน)\",\"report_uoq_name_eng\":\"(Unit : Baht / 1 Unit of Foreign Currency)\",\"report_uoq_name_th\":\"(หน่วย : บาท ต่อ 1 หน่วยเงินตราต่างประเทศ)\",\"report_source_of_data\":[{\"source_of_data_eng\":\"Bank of Thailand\",\"source_of_data_th\":\"ธนาคารแห่งประเทศไทย\"}],\"report_remark\":[],\"last_updated\":\"2017-09-22\"},\"data_detail\":[{\"period\":\"2017-09-15\",\"rate\":\"33.0670000\"},{\"period\":\"2017-09-14\",\"rate\":\"33.1190000\"},{\"period\":\"2017-09-13\",\"rate\":\"33.0870000\"},{\"period\":\"2017-09-12\",\"rate\":\"33.1170000\"},{\"period\":\"2017-09-11\",\"rate\":\"33.1280000\"},{\"period\":\"2017-09-08\",\"rate\":\"33.0680000\"},{\"period\":\"2017-09-07\",\"rate\":\"33.1260000\"},{\"period\":\"2017-09-06\",\"rate\":\"33.1650000\"},{\"period\":\"2017-09-05\",\"rate\":\"33.1730000\"},{\"period\":\"2017-09-04\",\"rate\":\"33.1820000\"},{\"period\":\"2017-09-01\",\"rate\":\"33.1830000\"}]}}}'"
      ]
     },
     "execution_count": 19,
     "metadata": {},
     "output_type": "execute_result"
    }
   ],
   "source": [
    "response.text "
   ]
  },
  {
   "cell_type": "code",
   "execution_count": 20,
   "metadata": {
    "collapsed": true
   },
   "outputs": [],
   "source": [
    "import pandas as pd"
   ]
  },
  {
   "cell_type": "code",
   "execution_count": 21,
   "metadata": {},
   "outputs": [
    {
     "name": "stdout",
     "output_type": "stream",
     "text": [
      "<class 'dict'>\n"
     ]
    },
    {
     "data": {
      "text/plain": [
       "{'result': {'api': 'Daily Weighted-average Interbank Exchange Rate - THB / USD',\n",
       "  'data': {'data_detail': [{'period': '2017-09-15', 'rate': '33.0670000'},\n",
       "    {'period': '2017-09-14', 'rate': '33.1190000'},\n",
       "    {'period': '2017-09-13', 'rate': '33.0870000'},\n",
       "    {'period': '2017-09-12', 'rate': '33.1170000'},\n",
       "    {'period': '2017-09-11', 'rate': '33.1280000'},\n",
       "    {'period': '2017-09-08', 'rate': '33.0680000'},\n",
       "    {'period': '2017-09-07', 'rate': '33.1260000'},\n",
       "    {'period': '2017-09-06', 'rate': '33.1650000'},\n",
       "    {'period': '2017-09-05', 'rate': '33.1730000'},\n",
       "    {'period': '2017-09-04', 'rate': '33.1820000'},\n",
       "    {'period': '2017-09-01', 'rate': '33.1830000'}],\n",
       "   'data_header': {'last_updated': '2017-09-22',\n",
       "    'report_name_eng': 'Rates of Exchange of Commercial Banks in Bangkok Metropolis (2002-present)',\n",
       "    'report_name_th': 'อัตราแลกเปลี่ยนเฉลี่ยของธนาคารพาณิชย์ในกรุงเทพมหานคร (2545-ปัจจุบัน)',\n",
       "    'report_remark': [],\n",
       "    'report_source_of_data': [{'source_of_data_eng': 'Bank of Thailand',\n",
       "      'source_of_data_th': 'ธนาคารแห่งประเทศไทย'}],\n",
       "    'report_uoq_name_eng': '(Unit : Baht / 1 Unit of Foreign Currency)',\n",
       "    'report_uoq_name_th': '(หน่วย : บาท ต่อ 1 หน่วยเงินตราต่างประเทศ)'}},\n",
       "  'success': 'true',\n",
       "  'timestamp': '2017-09-24 09:31:15'}}"
      ]
     },
     "execution_count": 21,
     "metadata": {},
     "output_type": "execute_result"
    }
   ],
   "source": [
    "j=pd.io.json.loads(response.text)\n",
    "print(type(j))\n",
    "j"
   ]
  },
  {
   "cell_type": "code",
   "execution_count": 22,
   "metadata": {},
   "outputs": [
    {
     "data": {
      "text/plain": [
       "[{'period': '2017-09-15', 'rate': '33.0670000'},\n",
       " {'period': '2017-09-14', 'rate': '33.1190000'},\n",
       " {'period': '2017-09-13', 'rate': '33.0870000'},\n",
       " {'period': '2017-09-12', 'rate': '33.1170000'},\n",
       " {'period': '2017-09-11', 'rate': '33.1280000'},\n",
       " {'period': '2017-09-08', 'rate': '33.0680000'},\n",
       " {'period': '2017-09-07', 'rate': '33.1260000'},\n",
       " {'period': '2017-09-06', 'rate': '33.1650000'},\n",
       " {'period': '2017-09-05', 'rate': '33.1730000'},\n",
       " {'period': '2017-09-04', 'rate': '33.1820000'},\n",
       " {'period': '2017-09-01', 'rate': '33.1830000'}]"
      ]
     },
     "execution_count": 22,
     "metadata": {},
     "output_type": "execute_result"
    }
   ],
   "source": [
    "j['result']['data']['data_detail']"
   ]
  },
  {
   "cell_type": "code",
   "execution_count": 23,
   "metadata": {
    "collapsed": true
   },
   "outputs": [],
   "source": [
    "df=pd.DataFrame(j['result']['data']['data_detail'])"
   ]
  },
  {
   "cell_type": "code",
   "execution_count": 24,
   "metadata": {},
   "outputs": [
    {
     "data": {
      "text/html": [
       "<div>\n",
       "<style>\n",
       "    .dataframe thead tr:only-child th {\n",
       "        text-align: right;\n",
       "    }\n",
       "\n",
       "    .dataframe thead th {\n",
       "        text-align: left;\n",
       "    }\n",
       "\n",
       "    .dataframe tbody tr th {\n",
       "        vertical-align: top;\n",
       "    }\n",
       "</style>\n",
       "<table border=\"1\" class=\"dataframe\">\n",
       "  <thead>\n",
       "    <tr style=\"text-align: right;\">\n",
       "      <th></th>\n",
       "      <th>period</th>\n",
       "      <th>rate</th>\n",
       "    </tr>\n",
       "  </thead>\n",
       "  <tbody>\n",
       "    <tr>\n",
       "      <th>0</th>\n",
       "      <td>2017-09-15</td>\n",
       "      <td>33.0670000</td>\n",
       "    </tr>\n",
       "    <tr>\n",
       "      <th>1</th>\n",
       "      <td>2017-09-14</td>\n",
       "      <td>33.1190000</td>\n",
       "    </tr>\n",
       "    <tr>\n",
       "      <th>2</th>\n",
       "      <td>2017-09-13</td>\n",
       "      <td>33.0870000</td>\n",
       "    </tr>\n",
       "    <tr>\n",
       "      <th>3</th>\n",
       "      <td>2017-09-12</td>\n",
       "      <td>33.1170000</td>\n",
       "    </tr>\n",
       "    <tr>\n",
       "      <th>4</th>\n",
       "      <td>2017-09-11</td>\n",
       "      <td>33.1280000</td>\n",
       "    </tr>\n",
       "    <tr>\n",
       "      <th>5</th>\n",
       "      <td>2017-09-08</td>\n",
       "      <td>33.0680000</td>\n",
       "    </tr>\n",
       "    <tr>\n",
       "      <th>6</th>\n",
       "      <td>2017-09-07</td>\n",
       "      <td>33.1260000</td>\n",
       "    </tr>\n",
       "    <tr>\n",
       "      <th>7</th>\n",
       "      <td>2017-09-06</td>\n",
       "      <td>33.1650000</td>\n",
       "    </tr>\n",
       "    <tr>\n",
       "      <th>8</th>\n",
       "      <td>2017-09-05</td>\n",
       "      <td>33.1730000</td>\n",
       "    </tr>\n",
       "    <tr>\n",
       "      <th>9</th>\n",
       "      <td>2017-09-04</td>\n",
       "      <td>33.1820000</td>\n",
       "    </tr>\n",
       "    <tr>\n",
       "      <th>10</th>\n",
       "      <td>2017-09-01</td>\n",
       "      <td>33.1830000</td>\n",
       "    </tr>\n",
       "  </tbody>\n",
       "</table>\n",
       "</div>"
      ],
      "text/plain": [
       "        period        rate\n",
       "0   2017-09-15  33.0670000\n",
       "1   2017-09-14  33.1190000\n",
       "2   2017-09-13  33.0870000\n",
       "3   2017-09-12  33.1170000\n",
       "4   2017-09-11  33.1280000\n",
       "5   2017-09-08  33.0680000\n",
       "6   2017-09-07  33.1260000\n",
       "7   2017-09-06  33.1650000\n",
       "8   2017-09-05  33.1730000\n",
       "9   2017-09-04  33.1820000\n",
       "10  2017-09-01  33.1830000"
      ]
     },
     "execution_count": 24,
     "metadata": {},
     "output_type": "execute_result"
    }
   ],
   "source": [
    "df"
   ]
  },
  {
   "cell_type": "code",
   "execution_count": 25,
   "metadata": {},
   "outputs": [
    {
     "data": {
      "text/plain": [
       "period    object\n",
       "rate      object\n",
       "dtype: object"
      ]
     },
     "execution_count": 25,
     "metadata": {},
     "output_type": "execute_result"
    }
   ],
   "source": [
    "df.dtypes"
   ]
  },
  {
   "cell_type": "code",
   "execution_count": 26,
   "metadata": {},
   "outputs": [
    {
     "data": {
      "text/plain": [
       "period    datetime64[ns]\n",
       "rate             float64\n",
       "dtype: object"
      ]
     },
     "execution_count": 26,
     "metadata": {},
     "output_type": "execute_result"
    }
   ],
   "source": [
    "df.period=pd.to_datetime(df.period)\n",
    "df.rate=pd.to_numeric(df.rate)\n",
    "df.dtypes"
   ]
  },
  {
   "cell_type": "code",
   "execution_count": 27,
   "metadata": {},
   "outputs": [],
   "source": [
    "df.set_index('period', inplace=True)"
   ]
  },
  {
   "cell_type": "code",
   "execution_count": 28,
   "metadata": {},
   "outputs": [
    {
     "data": {
      "text/html": [
       "<div>\n",
       "<style>\n",
       "    .dataframe thead tr:only-child th {\n",
       "        text-align: right;\n",
       "    }\n",
       "\n",
       "    .dataframe thead th {\n",
       "        text-align: left;\n",
       "    }\n",
       "\n",
       "    .dataframe tbody tr th {\n",
       "        vertical-align: top;\n",
       "    }\n",
       "</style>\n",
       "<table border=\"1\" class=\"dataframe\">\n",
       "  <thead>\n",
       "    <tr style=\"text-align: right;\">\n",
       "      <th></th>\n",
       "      <th>rate</th>\n",
       "    </tr>\n",
       "    <tr>\n",
       "      <th>period</th>\n",
       "      <th></th>\n",
       "    </tr>\n",
       "  </thead>\n",
       "  <tbody>\n",
       "    <tr>\n",
       "      <th>2017-09-15</th>\n",
       "      <td>33.067</td>\n",
       "    </tr>\n",
       "    <tr>\n",
       "      <th>2017-09-14</th>\n",
       "      <td>33.119</td>\n",
       "    </tr>\n",
       "    <tr>\n",
       "      <th>2017-09-13</th>\n",
       "      <td>33.087</td>\n",
       "    </tr>\n",
       "    <tr>\n",
       "      <th>2017-09-12</th>\n",
       "      <td>33.117</td>\n",
       "    </tr>\n",
       "    <tr>\n",
       "      <th>2017-09-11</th>\n",
       "      <td>33.128</td>\n",
       "    </tr>\n",
       "    <tr>\n",
       "      <th>2017-09-08</th>\n",
       "      <td>33.068</td>\n",
       "    </tr>\n",
       "    <tr>\n",
       "      <th>2017-09-07</th>\n",
       "      <td>33.126</td>\n",
       "    </tr>\n",
       "    <tr>\n",
       "      <th>2017-09-06</th>\n",
       "      <td>33.165</td>\n",
       "    </tr>\n",
       "    <tr>\n",
       "      <th>2017-09-05</th>\n",
       "      <td>33.173</td>\n",
       "    </tr>\n",
       "    <tr>\n",
       "      <th>2017-09-04</th>\n",
       "      <td>33.182</td>\n",
       "    </tr>\n",
       "    <tr>\n",
       "      <th>2017-09-01</th>\n",
       "      <td>33.183</td>\n",
       "    </tr>\n",
       "  </tbody>\n",
       "</table>\n",
       "</div>"
      ],
      "text/plain": [
       "              rate\n",
       "period            \n",
       "2017-09-15  33.067\n",
       "2017-09-14  33.119\n",
       "2017-09-13  33.087\n",
       "2017-09-12  33.117\n",
       "2017-09-11  33.128\n",
       "2017-09-08  33.068\n",
       "2017-09-07  33.126\n",
       "2017-09-06  33.165\n",
       "2017-09-05  33.173\n",
       "2017-09-04  33.182\n",
       "2017-09-01  33.183"
      ]
     },
     "execution_count": 28,
     "metadata": {},
     "output_type": "execute_result"
    }
   ],
   "source": [
    "df"
   ]
  },
  {
   "cell_type": "code",
   "execution_count": 29,
   "metadata": {
    "collapsed": true
   },
   "outputs": [],
   "source": [
    "df=df.sort_index()"
   ]
  },
  {
   "cell_type": "code",
   "execution_count": 30,
   "metadata": {},
   "outputs": [
    {
     "data": {
      "text/html": [
       "<div>\n",
       "<style>\n",
       "    .dataframe thead tr:only-child th {\n",
       "        text-align: right;\n",
       "    }\n",
       "\n",
       "    .dataframe thead th {\n",
       "        text-align: left;\n",
       "    }\n",
       "\n",
       "    .dataframe tbody tr th {\n",
       "        vertical-align: top;\n",
       "    }\n",
       "</style>\n",
       "<table border=\"1\" class=\"dataframe\">\n",
       "  <thead>\n",
       "    <tr style=\"text-align: right;\">\n",
       "      <th></th>\n",
       "      <th>rate</th>\n",
       "    </tr>\n",
       "    <tr>\n",
       "      <th>period</th>\n",
       "      <th></th>\n",
       "    </tr>\n",
       "  </thead>\n",
       "  <tbody>\n",
       "    <tr>\n",
       "      <th>2017-09-01</th>\n",
       "      <td>33.183</td>\n",
       "    </tr>\n",
       "    <tr>\n",
       "      <th>2017-09-04</th>\n",
       "      <td>33.182</td>\n",
       "    </tr>\n",
       "    <tr>\n",
       "      <th>2017-09-05</th>\n",
       "      <td>33.173</td>\n",
       "    </tr>\n",
       "    <tr>\n",
       "      <th>2017-09-06</th>\n",
       "      <td>33.165</td>\n",
       "    </tr>\n",
       "    <tr>\n",
       "      <th>2017-09-07</th>\n",
       "      <td>33.126</td>\n",
       "    </tr>\n",
       "    <tr>\n",
       "      <th>2017-09-08</th>\n",
       "      <td>33.068</td>\n",
       "    </tr>\n",
       "    <tr>\n",
       "      <th>2017-09-11</th>\n",
       "      <td>33.128</td>\n",
       "    </tr>\n",
       "    <tr>\n",
       "      <th>2017-09-12</th>\n",
       "      <td>33.117</td>\n",
       "    </tr>\n",
       "    <tr>\n",
       "      <th>2017-09-13</th>\n",
       "      <td>33.087</td>\n",
       "    </tr>\n",
       "    <tr>\n",
       "      <th>2017-09-14</th>\n",
       "      <td>33.119</td>\n",
       "    </tr>\n",
       "    <tr>\n",
       "      <th>2017-09-15</th>\n",
       "      <td>33.067</td>\n",
       "    </tr>\n",
       "  </tbody>\n",
       "</table>\n",
       "</div>"
      ],
      "text/plain": [
       "              rate\n",
       "period            \n",
       "2017-09-01  33.183\n",
       "2017-09-04  33.182\n",
       "2017-09-05  33.173\n",
       "2017-09-06  33.165\n",
       "2017-09-07  33.126\n",
       "2017-09-08  33.068\n",
       "2017-09-11  33.128\n",
       "2017-09-12  33.117\n",
       "2017-09-13  33.087\n",
       "2017-09-14  33.119\n",
       "2017-09-15  33.067"
      ]
     },
     "execution_count": 30,
     "metadata": {},
     "output_type": "execute_result"
    }
   ],
   "source": [
    "df"
   ]
  },
  {
   "cell_type": "code",
   "execution_count": 32,
   "metadata": {},
   "outputs": [
    {
     "data": {
      "text/plain": [
       "<matplotlib.axes._subplots.AxesSubplot at 0x268f25a2cf8>"
      ]
     },
     "execution_count": 32,
     "metadata": {},
     "output_type": "execute_result"
    },
    {
     "data": {
      "image/png": "[encoded data removed]",
      "text/plain": [
       "<matplotlib.figure.Figure at 0x268f1f0a898>"
      ]
     },
     "metadata": {},
     "output_type": "display_data"
    }
   ],
   "source": [
    "df.plot()"
   ]
  },
  {
   "cell_type": "code",
   "execution_count": null,
   "metadata": {
    "collapsed": true
   },
   "outputs": [],
   "source": []
  }
 ],
 "metadata": {
  "kernelspec": {
   "display_name": "Python 3",
   "language": "python",
   "name": "python3"
  },
  "language_info": {
   "codemirror_mode": {
    "name": "ipython",
    "version": 3
   },
   "file_extension": ".py",
   "mimetype": "text/x-python",
   "name": "python",
   "nbconvert_exporter": "python",
   "pygments_lexer": "ipython3",
   "version": "3.6.2"
  }
 },
 "nbformat": 4,
 "nbformat_minor": 2
}
